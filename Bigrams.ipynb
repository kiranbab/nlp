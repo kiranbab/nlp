{
 "cells": [
  {
   "cell_type": "code",
   "execution_count": 2,
   "id": "ff10eb9d",
   "metadata": {},
   "outputs": [
    {
     "data": {
      "text/plain": [
       "['emma',\n",
       " 'olivia',\n",
       " 'ava',\n",
       " 'isabella',\n",
       " 'sophia',\n",
       " 'charlotte',\n",
       " 'mia',\n",
       " 'amelia',\n",
       " 'harper',\n",
       " 'evelyn']"
      ]
     },
     "execution_count": 2,
     "metadata": {},
     "output_type": "execute_result"
    }
   ],
   "source": [
    "import os\n",
    "words=open('names.txt','r').read().splitlines()\n",
    "words[:10] "
   ]
  },
  {
   "cell_type": "code",
   "execution_count": 7,
   "id": "d8ccd2ee",
   "metadata": {},
   "outputs": [
    {
     "name": "stdout",
     "output_type": "stream",
     "text": [
      "e ch1\n",
      "m ch2\n",
      "m ch1\n",
      "m ch2\n",
      "m ch1\n",
      "a ch2\n"
     ]
    }
   ],
   "source": [
    "# taking each word from the list and creating a two character sliding window\n",
    "for w in words[:1]: \n",
    "    # print(w)\n",
    "    for ch1,ch2 in zip(w,w[1:]): \n",
    "        print(ch1,ch2)\n",
    "        "
   ]
  },
  {
   "cell_type": "code",
   "execution_count": null,
   "id": "f95a845e",
   "metadata": {},
   "outputs": [],
   "source": []
  }
 ],
 "metadata": {
  "kernelspec": {
   "display_name": "Python 3 (ipykernel)",
   "language": "python",
   "name": "python3"
  },
  "language_info": {
   "codemirror_mode": {
    "name": "ipython",
    "version": 3
   },
   "file_extension": ".py",
   "mimetype": "text/x-python",
   "name": "python",
   "nbconvert_exporter": "python",
   "pygments_lexer": "ipython3",
   "version": "3.11.7"
  }
 },
 "nbformat": 4,
 "nbformat_minor": 5
}
