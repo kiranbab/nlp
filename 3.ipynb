{
 "cells": [
  {
   "cell_type": "code",
   "execution_count": 1,
   "metadata": {},
   "outputs": [],
   "source": [
    "import torch \n",
    "import torch.nn.functional  as F \n",
    "import matplotlib.pyplot as plt \n",
    "%matplotlib inline"
   ]
  },
  {
   "cell_type": "code",
   "execution_count": 3,
   "metadata": {},
   "outputs": [
    {
     "data": {
      "text/plain": [
       "['emma', 'olivia', 'ava', 'isabella', 'sophia', 'charlotte', 'mia', 'amelia']"
      ]
     },
     "execution_count": 3,
     "metadata": {},
     "output_type": "execute_result"
    }
   ],
   "source": [
    "words = open('names.txt','r').read().splitlines()\n",
    "words[:8]"
   ]
  },
  {
   "cell_type": "code",
   "execution_count": 4,
   "metadata": {},
   "outputs": [
    {
     "data": {
      "text/plain": [
       "32033"
      ]
     },
     "execution_count": 4,
     "metadata": {},
     "output_type": "execute_result"
    }
   ],
   "source": [
    "len(words)"
   ]
  },
  {
   "cell_type": "code",
   "execution_count": 5,
   "metadata": {},
   "outputs": [
    {
     "name": "stdout",
     "output_type": "stream",
     "text": [
      "{'a': 1, 'b': 2, 'c': 3, 'd': 4, 'e': 5, 'f': 6, 'g': 7, 'h': 8, 'i': 9, 'j': 10, 'k': 11, 'l': 12, 'm': 13, 'n': 14, 'o': 15, 'p': 16, 'q': 17, 'r': 18, 's': 19, 't': 20, 'u': 21, 'v': 22, 'w': 23, 'x': 24, 'y': 25, 'z': 26, '.': 0}\n",
      "27\n"
     ]
    }
   ],
   "source": [
    "# build tokenzier\n",
    "chars = sorted(list(set(''.join(words))))\n",
    "stoi = {s:i+1 for i,s in enumerate(chars)}\n",
    "stoi['.'] =0 \n",
    "itos = {i:s for i,s in stoi.items()}\n",
    "vocab_size = len(itos)\n",
    "print(itos)\n",
    "print(vocab_size)"
   ]
  },
  {
   "cell_type": "code",
   "execution_count": 6,
   "metadata": {},
   "outputs": [
    {
     "name": "stdout",
     "output_type": "stream",
     "text": [
      "torch.Size([182625, 3]) torch.Size([182625])\n",
      "torch.Size([22655, 3]) torch.Size([22655])\n",
      "torch.Size([22866, 3]) torch.Size([22866])\n"
     ]
    }
   ],
   "source": [
    "# dataset \n",
    "block_size=3 \n",
    "\n",
    "def build_dataset(words):\n",
    "    X,Y = [],[]\n",
    "    \n",
    "    for w in words:\n",
    "        context = [0] *block_size\n",
    "        for ch in w+'.':\n",
    "            ix = stoi[ch]\n",
    "            X.append(context)\n",
    "            Y.append(ix)\n",
    "            context =context[1:] + [ix]\n",
    "            \n",
    "    X = torch.tensor(X)\n",
    "    Y = torch.tensor(Y)\n",
    "    print(X.shape,Y.shape)\n",
    "    return X,Y \n",
    "\n",
    "import random \n",
    "random.seed(42)\n",
    "random.shuffle(words) \n",
    "n1= int(0.8*len(words))\n",
    "n2 = int(0.9*len(words))\n",
    "\n",
    "Xtr,Ytr = build_dataset(words[:n1])\n",
    "Xdev,Ydev = build_dataset(words[n1:n2])\n",
    "Xte, Yte = build_dataset(words[n2:])"
   ]
  },
  {
   "cell_type": "code",
   "execution_count": 7,
   "metadata": {},
   "outputs": [
    {
     "name": "stdout",
     "output_type": "stream",
     "text": [
      "11897\n"
     ]
    }
   ],
   "source": [
    "# MLP revisted \n",
    "n_embd =10 \n",
    "n_hidden = 200\n",
    "\n",
    "g=torch.Generator().manual_seed(2147483647)\n",
    "C = torch.randn((vocab_size,n_embd),generator=g)\n",
    "W1 = torch.randn((n_embd*block_size,n_hidden),generator=g)\n",
    "b1 = torch.randn(n_hidden,generator=g)\n",
    "W2 = torch.randn((n_hidden,vocab_size),generator=g)\n",
    "b2 = torch.randn(vocab_size,generator=g)\n",
    "\n",
    "parameters = [C,W1,b1,W2,b2]\n",
    "print(sum(p.nelement() for p in parameters))\n",
    "for p in parameters:\n",
    "    p.requires_grad=True"
   ]
  },
  {
   "cell_type": "code",
   "execution_count": 9,
   "metadata": {},
   "outputs": [
    {
     "name": "stdout",
     "output_type": "stream",
     "text": [
      "      0/ 200000 : 2.8181\n",
      "  10000/ 200000 : 2.8312\n",
      "  20000/ 200000 : 2.0579\n",
      "  30000/ 200000 : 2.0053\n",
      "  40000/ 200000 : 2.4779\n",
      "  50000/ 200000 : 2.5303\n",
      "  60000/ 200000 : 2.3766\n",
      "  70000/ 200000 : 2.5537\n",
      "  80000/ 200000 : 1.7431\n",
      "  90000/ 200000 : 2.7209\n",
      " 100000/ 200000 : 2.1111\n",
      " 110000/ 200000 : 2.0441\n",
      " 120000/ 200000 : 2.3435\n",
      " 130000/ 200000 : 2.4104\n",
      " 140000/ 200000 : 2.4881\n",
      " 150000/ 200000 : 2.1495\n",
      " 160000/ 200000 : 2.0445\n",
      " 170000/ 200000 : 2.2460\n",
      " 180000/ 200000 : 2.2180\n",
      " 190000/ 200000 : 2.1275\n"
     ]
    }
   ],
   "source": [
    "max_steps = 200000\n",
    "batch_size=32 \n",
    "lossi = [] \n",
    "\n",
    "for i in range(max_steps):\n",
    "    \n",
    "    ix = torch.randint(0,Xtr.shape[0],(batch_size,), generator=g)\n",
    "    Xb , Yb = Xtr[ix],Ytr[ix]\n",
    "    \n",
    "    emb = C[Xb]\n",
    "    embcat= emb.view(emb.shape[0],-1)\n",
    "    hpreact= embcat@ W1 +b1 \n",
    "    h = torch.tanh(hpreact)\n",
    "    logits= h@ W2 + b2 \n",
    "    loss = F.cross_entropy(logits,Yb)\n",
    "    \n",
    "    for p in parameters:\n",
    "        p.grad = None \n",
    "    loss.backward()\n",
    "    \n",
    "    lr = 0.1 if i <100000 else  0.01\n",
    "    for p in parameters:\n",
    "        p.data += -lr * p.grad \n",
    "        \n",
    "    if i %10000 == 0 :\n",
    "        print(f\"{i:7d}/{max_steps:7d} : {loss.item():.4f}\")\n",
    "    lossi.append(loss.log10().item())"
   ]
  },
  {
   "cell_type": "code",
   "execution_count": 10,
   "metadata": {},
   "outputs": [
    {
     "data": {
      "text/plain": [
       "[<matplotlib.lines.Line2D at 0x164a5f650>]"
      ]
     },
     "execution_count": 10,
     "metadata": {},
     "output_type": "execute_result"
    },
    {
     "data": {
      "image/png": "[encoded data removed]",
      "text/plain": [
       "<Figure size 640x480 with 1 Axes>"
      ]
     },
     "metadata": {},
     "output_type": "display_data"
    }
   ],
   "source": [
    "plt.plot(lossi)"
   ]
  },
  {
   "cell_type": "code",
   "execution_count": 13,
   "metadata": {},
   "outputs": [
    {
     "name": "stdout",
     "output_type": "stream",
     "text": [
      "train 2.094224691390991\n",
      "val 2.1442694664001465\n"
     ]
    }
   ],
   "source": [
    "@torch.no_grad()\n",
    "def split_loss(split):\n",
    "    x,y = {\n",
    "        'train' : (Xtr,Ytr),\n",
    "        'val': (Xdev,Ydev),\n",
    "        'test' : (Xte,Yte),\n",
    "    }[split]\n",
    "    emb = C[x]\n",
    "    embcat = emb.view(emb.shape[0],-1)\n",
    "    h = torch.tanh(embcat@ W1 + b1)\n",
    "    logits = h @ W2 + b2 \n",
    "    loss = F.cross_entropy(logits,y)\n",
    "    print(split,loss.item())\n",
    "split_loss('train')\n",
    "split_loss('val')"
   ]
  },
  {
   "cell_type": "code",
   "execution_count": null,
   "metadata": {},
   "outputs": [],
   "source": []
  }
 ],
 "metadata": {
  "kernelspec": {
   "display_name": "Python 3",
   "language": "python",
   "name": "python3"
  },
  "language_info": {
   "codemirror_mode": {
    "name": "ipython",
    "version": 3
   },
   "file_extension": ".py",
   "mimetype": "text/x-python",
   "name": "python",
   "nbconvert_exporter": "python",
   "pygments_lexer": "ipython3",
   "version": "3.11.7"
  }
 },
 "nbformat": 4,
 "nbformat_minor": 2
}
